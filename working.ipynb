{
 "cells": [
  {
   "cell_type": "markdown",
   "metadata": {},
   "source": [
    "# Prob 1"
   ]
  },
  {
   "cell_type": "code",
   "execution_count": 124,
   "metadata": {},
   "outputs": [],
   "source": [
    "f  = open(\"./dna2.fasta\",'r')"
   ]
  },
  {
   "cell_type": "code",
   "execution_count": 125,
   "metadata": {},
   "outputs": [],
   "source": [
    "lines = []\n",
    "for line in f:\n",
    "    lines.append(line.strip())"
   ]
  },
  {
   "cell_type": "code",
   "execution_count": 126,
   "metadata": {},
   "outputs": [
    {
     "data": {
      "text/plain": [
       "679"
      ]
     },
     "execution_count": 126,
     "metadata": {},
     "output_type": "execute_result"
    }
   ],
   "source": [
    "f.close()\n",
    "len(lines)"
   ]
  },
  {
   "cell_type": "code",
   "execution_count": 127,
   "metadata": {},
   "outputs": [
    {
     "data": {
      "text/plain": [
       "'>gi|142022655|gb|EQ086233.1|91 marine metagenome JCVI_SCAF_1096627390048 genomic scaffold, whole genome shotgun sequence'"
      ]
     },
     "execution_count": 127,
     "metadata": {},
     "output_type": "execute_result"
    }
   ],
   "source": [
    "lines[0]"
   ]
  },
  {
   "cell_type": "code",
   "execution_count": 128,
   "metadata": {},
   "outputs": [
    {
     "name": "stdout",
     "output_type": "stream",
     "text": [
      "18\n"
     ]
    }
   ],
   "source": [
    "num_records = sum(['>' in line for line in lines])\n",
    "print(num_records)"
   ]
  },
  {
   "cell_type": "markdown",
   "metadata": {},
   "source": [
    "# Prob 2"
   ]
  },
  {
   "cell_type": "code",
   "execution_count": 129,
   "metadata": {},
   "outputs": [],
   "source": [
    "genes = {}\n",
    "idtf = \"\"\n",
    "for line in lines:\n",
    "    if \">\" in line:\n",
    "        idtf = line[1:]\n",
    "        genes[idtf] = \"\"\n",
    "        continue\n",
    "    genes[idtf] += line"
   ]
  },
  {
   "cell_type": "code",
   "execution_count": 130,
   "metadata": {},
   "outputs": [],
   "source": [
    "length_genes = {}\n",
    "for gene, sequence in genes.items():\n",
    "    length_genes[gene] = len(sequence)"
   ]
  },
  {
   "cell_type": "code",
   "execution_count": 131,
   "metadata": {},
   "outputs": [
    {
     "data": {
      "text/plain": [
       "{'gi|142022655|gb|EQ086233.1|346 marine metagenome JCVI_SCAF_1096627390048 genomic scaffold, whole genome shotgun sequence': 115,\n",
       " 'gi|142022655|gb|EQ086233.1|322 marine metagenome JCVI_SCAF_1096627390048 genomic scaffold, whole genome shotgun sequence': 442,\n",
       " 'gi|142022655|gb|EQ086233.1|88 marine metagenome JCVI_SCAF_1096627390048 genomic scaffold, whole genome shotgun sequence': 890,\n",
       " 'gi|142022655|gb|EQ086233.1|584 marine metagenome JCVI_SCAF_1096627390048 genomic scaffold, whole genome shotgun sequence': 964,\n",
       " 'gi|142022655|gb|EQ086233.1|594 marine metagenome JCVI_SCAF_1096627390048 genomic scaffold, whole genome shotgun sequence': 967,\n",
       " 'gi|142022655|gb|EQ086233.1|304 marine metagenome JCVI_SCAF_1096627390048 genomic scaffold, whole genome shotgun sequence': 1151,\n",
       " 'gi|142022655|gb|EQ086233.1|75 marine metagenome JCVI_SCAF_1096627390048 genomic scaffold, whole genome shotgun sequence': 1352,\n",
       " 'gi|142022655|gb|EQ086233.1|277 marine metagenome JCVI_SCAF_1096627390048 genomic scaffold, whole genome shotgun sequence': 1432,\n",
       " 'gi|142022655|gb|EQ086233.1|4 marine metagenome JCVI_SCAF_1096627390048 genomic scaffold, whole genome shotgun sequence': 2095,\n",
       " 'gi|142022655|gb|EQ086233.1|527 marine metagenome JCVI_SCAF_1096627390048 genomic scaffold, whole genome shotgun sequence': 2646,\n",
       " 'gi|142022655|gb|EQ086233.1|250 marine metagenome JCVI_SCAF_1096627390048 genomic scaffold, whole genome shotgun sequence': 2867,\n",
       " 'gi|142022655|gb|EQ086233.1|45 marine metagenome JCVI_SCAF_1096627390048 genomic scaffold, whole genome shotgun sequence': 3511,\n",
       " 'gi|142022655|gb|EQ086233.1|396 marine metagenome JCVI_SCAF_1096627390048 genomic scaffold, whole genome shotgun sequence': 4076,\n",
       " 'gi|142022655|gb|EQ086233.1|293 marine metagenome JCVI_SCAF_1096627390048 genomic scaffold, whole genome shotgun sequence': 4338,\n",
       " 'gi|142022655|gb|EQ086233.1|454 marine metagenome JCVI_SCAF_1096627390048 genomic scaffold, whole genome shotgun sequence': 4564,\n",
       " 'gi|142022655|gb|EQ086233.1|91 marine metagenome JCVI_SCAF_1096627390048 genomic scaffold, whole genome shotgun sequence': 4635,\n",
       " 'gi|142022655|gb|EQ086233.1|16 marine metagenome JCVI_SCAF_1096627390048 genomic scaffold, whole genome shotgun sequence': 4804,\n",
       " 'gi|142022655|gb|EQ086233.1|255 marine metagenome JCVI_SCAF_1096627390048 genomic scaffold, whole genome shotgun sequence': 4894}"
      ]
     },
     "execution_count": 131,
     "metadata": {},
     "output_type": "execute_result"
    }
   ],
   "source": [
    "length_genes = {gene:length_genes[gene] for gene in sorted(length_genes, key=length_genes.get)}\n",
    "length_genes"
   ]
  },
  {
   "cell_type": "code",
   "execution_count": 132,
   "metadata": {},
   "outputs": [],
   "source": [
    "min_length = length_genes[list(length_genes.keys())[0]]\n",
    "max_length = length_genes[list(length_genes.keys())[-1]]"
   ]
  },
  {
   "cell_type": "code",
   "execution_count": 134,
   "metadata": {},
   "outputs": [
    {
     "name": "stdout",
     "output_type": "stream",
     "text": [
      "115\n",
      "4894\n"
     ]
    }
   ],
   "source": [
    "print(min_length)\n",
    "print(max_length)"
   ]
  },
  {
   "cell_type": "markdown",
   "metadata": {},
   "source": [
    "# Prob 3"
   ]
  },
  {
   "cell_type": "code",
   "execution_count": 135,
   "metadata": {},
   "outputs": [],
   "source": [
    "start = [\"ATG\"]\n",
    "stop = [\"TAA\",\"TAG\",\"TGA\"]"
   ]
  },
  {
   "cell_type": "code",
   "execution_count": 142,
   "metadata": {
    "scrolled": false
   },
   "outputs": [],
   "source": [
    "genes_ORF = {}\n",
    "for idtf in list(length_genes.keys()):\n",
    "    genes_ORF[idtf] = []\n",
    "    sq = genes[idtf]\n",
    "    for frame in [0,1,2]:\n",
    "        by_3 = len(sq[frame:])//3\n",
    "        in_frame = False\n",
    "\n",
    "        for i in range(by_3):\n",
    "            codon = sq[frame:][i*3:i*3+3]\n",
    "            if in_frame == False and codon in start:\n",
    "                in_frame = True\n",
    "                start_idx = i*3\n",
    "                continue\n",
    "            if in_frame == True and codon in stop:\n",
    "                in_frame = False\n",
    "                end_idx = i*3 + 3\n",
    "                genes_ORF[idtf].append([start_idx,end_idx])\n",
    "                \n",
    "genes_max_ORF = {}\n",
    "genes_max_ORF_pos = {}\n",
    "for idtf in list(length_genes.keys()):\n",
    "    ORF = genes_ORF[idtf]\n",
    "    ORF_length = [(end - start) for start,end in ORF]\n",
    "    if ORF_length == []:\n",
    "        continue\n",
    "    max_ORF = max(ORF_length)\n",
    "    max_idx = ORF_length.index(max_ORF)\n",
    "    genes_max_ORF[idtf] = max_ORF\n",
    "    genes_max_ORF_pos[idtf] = ORF[max_idx]"
   ]
  },
  {
   "cell_type": "code",
   "execution_count": 143,
   "metadata": {},
   "outputs": [],
   "source": []
  },
  {
   "cell_type": "code",
   "execution_count": 144,
   "metadata": {},
   "outputs": [
    {
     "name": "stdout",
     "output_type": "stream",
     "text": [
      "gi|142022655|gb|EQ086233.1|45 marine metagenome JCVI_SCAF_1096627390048 genomic scaffold, whole genome shotgun sequence\n",
      "[384, 2778]\n",
      "2394\n"
     ]
    }
   ],
   "source": [
    "genes_max_ORF = {idtf:genes_max_ORF[idtf] for idtf in sorted(genes_max_ORF, key=genes_max_ORF.get)}\n",
    "max_idtf = list(genes_max_ORF.keys())[-1]\n",
    "print(max_idtf)\n",
    "print(genes_max_ORF_pos[max_idtf])\n",
    "print(genes_max_ORF[max_idtf])"
   ]
  },
  {
   "cell_type": "code",
   "execution_count": 145,
   "metadata": {},
   "outputs": [],
   "source": [
    "genes_ORF = {}\n",
    "for idtf in list(length_genes.keys()):\n",
    "    genes_ORF[idtf] = []\n",
    "    sq = genes[idtf]\n",
    "    for frame in [1]:\n",
    "        by_3 = len(sq[frame:])//3\n",
    "        in_frame = False\n",
    "\n",
    "        for i in range(by_3):\n",
    "            codon = sq[frame:][i*3:i*3+3]\n",
    "            if in_frame == False and codon in start:\n",
    "                in_frame = True\n",
    "                start_idx = i*3\n",
    "                continue\n",
    "            if in_frame == True and codon in stop:\n",
    "                in_frame = False\n",
    "                end_idx = i*3 + 3\n",
    "                genes_ORF[idtf].append([start_idx,end_idx])\n",
    "                \n",
    "genes_max_ORF = {}\n",
    "genes_max_ORF_pos = {}\n",
    "for idtf in list(length_genes.keys()):\n",
    "    ORF = genes_ORF[idtf]\n",
    "    ORF_length = [(end - start) for start,end in ORF]\n",
    "    if ORF_length == []:\n",
    "        continue\n",
    "    max_ORF = max(ORF_length)\n",
    "    max_idx = ORF_length.index(max_ORF)\n",
    "    genes_max_ORF[idtf] = max_ORF\n",
    "    genes_max_ORF_pos[idtf] = ORF[max_idx]"
   ]
  },
  {
   "cell_type": "code",
   "execution_count": 146,
   "metadata": {
    "scrolled": true
   },
   "outputs": [
    {
     "name": "stdout",
     "output_type": "stream",
     "text": [
      "gi|142022655|gb|EQ086233.1|16 marine metagenome JCVI_SCAF_1096627390048 genomic scaffold, whole genome shotgun sequence\n",
      "[3069, 4527]\n",
      "1458\n"
     ]
    }
   ],
   "source": [
    "genes_max_ORF = {idtf:genes_max_ORF[idtf] for idtf in sorted(genes_max_ORF, key=genes_max_ORF.get)}\n",
    "max_idtf = list(genes_max_ORF.keys())[-1]\n",
    "print(max_idtf)\n",
    "print(genes_max_ORF_pos[max_idtf])\n",
    "print(genes_max_ORF[max_idtf])"
   ]
  },
  {
   "cell_type": "code",
   "execution_count": 147,
   "metadata": {},
   "outputs": [],
   "source": [
    "genes_ORF = {}\n",
    "for idtf in list(length_genes.keys()):\n",
    "    genes_ORF[idtf] = []\n",
    "    sq = genes[idtf]\n",
    "    for frame in [2]:\n",
    "        by_3 = len(sq[frame:])//3\n",
    "        in_frame = False\n",
    "\n",
    "        for i in range(by_3):\n",
    "            codon = sq[frame:][i*3:i*3+3]\n",
    "            if in_frame == False and codon in start:\n",
    "                in_frame = True\n",
    "                start_idx = i*3\n",
    "                continue\n",
    "            if in_frame == True and codon in stop:\n",
    "                in_frame = False\n",
    "                end_idx = i*3 + 3\n",
    "                genes_ORF[idtf].append([start_idx,end_idx])\n",
    "                \n",
    "genes_max_ORF = {}\n",
    "genes_max_ORF_pos = {}\n",
    "for idtf in list(length_genes.keys()):\n",
    "    ORF = genes_ORF[idtf]\n",
    "    ORF_length = [(end - start) for start,end in ORF]\n",
    "    if ORF_length == []:\n",
    "        continue\n",
    "    max_ORF = max(ORF_length)\n",
    "    max_idx = ORF_length.index(max_ORF)\n",
    "    genes_max_ORF[idtf] = max_ORF\n",
    "    genes_max_ORF_pos[idtf] = ORF[max_idx]"
   ]
  },
  {
   "cell_type": "code",
   "execution_count": 148,
   "metadata": {
    "scrolled": true
   },
   "outputs": [
    {
     "name": "stdout",
     "output_type": "stream",
     "text": [
      "gi|142022655|gb|EQ086233.1|527 marine metagenome JCVI_SCAF_1096627390048 genomic scaffold, whole genome shotgun sequence\n",
      "[633, 2454]\n",
      "1821\n"
     ]
    }
   ],
   "source": [
    "genes_max_ORF = {idtf:genes_max_ORF[idtf] for idtf in sorted(genes_max_ORF, key=genes_max_ORF.get)}\n",
    "max_idtf = list(genes_max_ORF.keys())[-1]\n",
    "print(max_idtf)\n",
    "print(genes_max_ORF_pos[max_idtf])\n",
    "print(genes_max_ORF[max_idtf])"
   ]
  },
  {
   "cell_type": "code",
   "execution_count": 149,
   "metadata": {},
   "outputs": [
    {
     "data": {
      "text/plain": [
       "{'gi|142022655|gb|EQ086233.1|346 marine metagenome JCVI_SCAF_1096627390048 genomic scaffold, whole genome shotgun sequence': [],\n",
       " 'gi|142022655|gb|EQ086233.1|322 marine metagenome JCVI_SCAF_1096627390048 genomic scaffold, whole genome shotgun sequence': [[87,\n",
       "   276],\n",
       "  [309, 351]],\n",
       " 'gi|142022655|gb|EQ086233.1|88 marine metagenome JCVI_SCAF_1096627390048 genomic scaffold, whole genome shotgun sequence': [],\n",
       " 'gi|142022655|gb|EQ086233.1|584 marine metagenome JCVI_SCAF_1096627390048 genomic scaffold, whole genome shotgun sequence': [[345,\n",
       "   477]],\n",
       " 'gi|142022655|gb|EQ086233.1|594 marine metagenome JCVI_SCAF_1096627390048 genomic scaffold, whole genome shotgun sequence': [[63,\n",
       "   276]],\n",
       " 'gi|142022655|gb|EQ086233.1|304 marine metagenome JCVI_SCAF_1096627390048 genomic scaffold, whole genome shotgun sequence': [[618,\n",
       "   765],\n",
       "  [906, 1026],\n",
       "  [1095, 1137]],\n",
       " 'gi|142022655|gb|EQ086233.1|75 marine metagenome JCVI_SCAF_1096627390048 genomic scaffold, whole genome shotgun sequence': [[54,\n",
       "   258],\n",
       "  [288, 321],\n",
       "  [342, 378],\n",
       "  [399, 582],\n",
       "  [594, 645]],\n",
       " 'gi|142022655|gb|EQ086233.1|277 marine metagenome JCVI_SCAF_1096627390048 genomic scaffold, whole genome shotgun sequence': [[756,\n",
       "   927],\n",
       "  [963, 1032],\n",
       "  [1134, 1194],\n",
       "  [1194, 1221],\n",
       "  [1356, 1383]],\n",
       " 'gi|142022655|gb|EQ086233.1|4 marine metagenome JCVI_SCAF_1096627390048 genomic scaffold, whole genome shotgun sequence': [[690,\n",
       "   753],\n",
       "  [1200, 1227],\n",
       "  [1275, 1494],\n",
       "  [1959, 2085]],\n",
       " 'gi|142022655|gb|EQ086233.1|527 marine metagenome JCVI_SCAF_1096627390048 genomic scaffold, whole genome shotgun sequence': [[18,\n",
       "   51],\n",
       "  [174, 531],\n",
       "  [633, 2454]],\n",
       " 'gi|142022655|gb|EQ086233.1|250 marine metagenome JCVI_SCAF_1096627390048 genomic scaffold, whole genome shotgun sequence': [[243,\n",
       "   342],\n",
       "  [1371, 1620]],\n",
       " 'gi|142022655|gb|EQ086233.1|45 marine metagenome JCVI_SCAF_1096627390048 genomic scaffold, whole genome shotgun sequence': [[213,\n",
       "   471],\n",
       "  [522, 555],\n",
       "  [696, 1020],\n",
       "  [2625, 2709]],\n",
       " 'gi|142022655|gb|EQ086233.1|396 marine metagenome JCVI_SCAF_1096627390048 genomic scaffold, whole genome shotgun sequence': [[426,\n",
       "   651],\n",
       "  [1938, 1968],\n",
       "  [1989, 2037],\n",
       "  [2388, 2472],\n",
       "  [2694, 2790],\n",
       "  [3117, 3180],\n",
       "  [3201, 3381],\n",
       "  [3396, 3411],\n",
       "  [3417, 3489],\n",
       "  [3492, 3540],\n",
       "  [3870, 4041]],\n",
       " 'gi|142022655|gb|EQ086233.1|293 marine metagenome JCVI_SCAF_1096627390048 genomic scaffold, whole genome shotgun sequence': [[1014,\n",
       "   1266],\n",
       "  [1353, 1362],\n",
       "  [1392, 1554],\n",
       "  [1695, 2112],\n",
       "  [2331, 3042],\n",
       "  [3057, 3186]],\n",
       " 'gi|142022655|gb|EQ086233.1|454 marine metagenome JCVI_SCAF_1096627390048 genomic scaffold, whole genome shotgun sequence': [[219,\n",
       "   759],\n",
       "  [1269, 1392],\n",
       "  [2055, 2121],\n",
       "  [2166, 2298],\n",
       "  [2313, 2406],\n",
       "  [3093, 4494]],\n",
       " 'gi|142022655|gb|EQ086233.1|91 marine metagenome JCVI_SCAF_1096627390048 genomic scaffold, whole genome shotgun sequence': [[906,\n",
       "   1260],\n",
       "  [1398, 1437],\n",
       "  [2268, 2397],\n",
       "  [2853, 3441],\n",
       "  [3447, 3531],\n",
       "  [3540, 3690],\n",
       "  [3750, 3849],\n",
       "  [3939, 3954],\n",
       "  [4080, 4128],\n",
       "  [4260, 4290],\n",
       "  [4308, 4374],\n",
       "  [4389, 4470]],\n",
       " 'gi|142022655|gb|EQ086233.1|16 marine metagenome JCVI_SCAF_1096627390048 genomic scaffold, whole genome shotgun sequence': [[108,\n",
       "   1425],\n",
       "  [1437, 3081],\n",
       "  [3102, 3234],\n",
       "  [3399, 3459],\n",
       "  [3627, 3687],\n",
       "  [3795, 3888],\n",
       "  [4146, 4299],\n",
       "  [4575, 4665]],\n",
       " 'gi|142022655|gb|EQ086233.1|255 marine metagenome JCVI_SCAF_1096627390048 genomic scaffold, whole genome shotgun sequence': [[774,\n",
       "   945],\n",
       "  [1176, 1185],\n",
       "  [1638, 1923],\n",
       "  [2019, 2031],\n",
       "  [2607, 2673],\n",
       "  [3702, 3903],\n",
       "  [4023, 4215]]}"
      ]
     },
     "execution_count": 149,
     "metadata": {},
     "output_type": "execute_result"
    }
   ],
   "source": [
    "genes_ORF"
   ]
  },
  {
   "cell_type": "code",
   "execution_count": 151,
   "metadata": {},
   "outputs": [
    {
     "data": {
      "text/plain": [
       "285"
      ]
     },
     "execution_count": 151,
     "metadata": {},
     "output_type": "execute_result"
    }
   ],
   "source": [
    "genes_max_ORF['gi|142022655|gb|EQ086233.1|255 marine metagenome JCVI_SCAF_1096627390048 genomic scaffold, whole genome shotgun sequence']"
   ]
  },
  {
   "cell_type": "code",
   "execution_count": null,
   "metadata": {},
   "outputs": [],
   "source": [
    "genes_ORF = {}\n",
    "for idtf in list(length_genes.keys()):\n",
    "    genes_ORF[idtf] = []\n",
    "    sq = genes[idtf]\n",
    "    for frame in [2]:\n",
    "        by_3 = len(sq[frame:])//3\n",
    "        in_frame = False\n",
    "\n",
    "        for i in range(by_3):\n",
    "            codon = sq[frame:][i*3:i*3+3]\n",
    "            if in_frame == False and codon in start:\n",
    "                in_frame = True\n",
    "                start_idx = i*3\n",
    "                continue\n",
    "            if in_frame == True and codon in stop:\n",
    "                in_frame = False\n",
    "                end_idx = i*3 + 3\n",
    "                genes_ORF[idtf].append([start_idx,end_idx])\n",
    "                \n",
    "genes_max_ORF = {}\n",
    "genes_max_ORF_pos = {}\n",
    "for idtf in list(length_genes.keys()):\n",
    "    ORF = genes_ORF[idtf]\n",
    "    ORF_length = [(end - start) for start,end in ORF]\n",
    "    if ORF_length == []:\n",
    "        continue\n",
    "    max_ORF = max(ORF_length)\n",
    "    max_idx = ORF_length.index(max_ORF)\n",
    "    genes_max_ORF[idtf] = max_ORF\n",
    "    genes_max_ORF_pos[idtf] = ORF[max_idx]"
   ]
  },
  {
   "cell_type": "code",
   "execution_count": 104,
   "metadata": {},
   "outputs": [],
   "source": [
    "sq = genes[list(length_genes.keys())[0]]"
   ]
  },
  {
   "cell_type": "code",
   "execution_count": 108,
   "metadata": {},
   "outputs": [
    {
     "data": {
      "text/plain": [
       "11"
      ]
     },
     "execution_count": 108,
     "metadata": {},
     "output_type": "execute_result"
    }
   ],
   "source": [
    "z = sq[:11]\n",
    "len(z)"
   ]
  },
  {
   "cell_type": "code",
   "execution_count": 112,
   "metadata": {},
   "outputs": [
    {
     "data": {
      "text/plain": [
       "11"
      ]
     },
     "execution_count": 112,
     "metadata": {},
     "output_type": "execute_result"
    }
   ],
   "source": [
    "len(z[0:11])"
   ]
  },
  {
   "cell_type": "code",
   "execution_count": 160,
   "metadata": {
    "scrolled": false
   },
   "outputs": [],
   "source": [
    "n = 7\n",
    "kmers_freq = {}\n",
    "for idtf in list(length_genes.keys()):\n",
    "    sq = genes[idtf]\n",
    "    for i in range(len(sq)+1 -n):\n",
    "        kmer = sq[i:i+n]\n",
    "        if kmer in kmers_freq:\n",
    "            kmers_freq[kmer] += 1\n",
    "        else:\n",
    "            kmers_freq[kmer] = 1"
   ]
  },
  {
   "cell_type": "code",
   "execution_count": 161,
   "metadata": {},
   "outputs": [],
   "source": [
    "kmers_freq = {kmer : kmers_freq[kmer] for kmer in sorted(kmers_freq,key= kmers_freq.get)}"
   ]
  },
  {
   "cell_type": "code",
   "execution_count": 162,
   "metadata": {},
   "outputs": [
    {
     "name": "stdout",
     "output_type": "stream",
     "text": [
      "CGCGCCG\n",
      "63\n"
     ]
    }
   ],
   "source": [
    "print(list(kmers_freq.keys())[-1])\n",
    "print(list(kmers_freq.values())[-1])"
   ]
  },
  {
   "cell_type": "code",
   "execution_count": 159,
   "metadata": {},
   "outputs": [
    {
     "name": "stdout",
     "output_type": "stream",
     "text": [
      "4\n"
     ]
    }
   ],
   "source": [
    "i = 0\n",
    "for k,v in kmers_freq.items():\n",
    "    if v == 10:\n",
    "        i += 1\n",
    "print(i)"
   ]
  },
  {
   "cell_type": "code",
   "execution_count": null,
   "metadata": {},
   "outputs": [],
   "source": []
  }
 ],
 "metadata": {
  "kernelspec": {
   "display_name": "Python 3",
   "language": "python",
   "name": "python3"
  },
  "language_info": {
   "codemirror_mode": {
    "name": "ipython",
    "version": 3
   },
   "file_extension": ".py",
   "mimetype": "text/x-python",
   "name": "python",
   "nbconvert_exporter": "python",
   "pygments_lexer": "ipython3",
   "version": "3.7.4"
  }
 },
 "nbformat": 4,
 "nbformat_minor": 2
}
